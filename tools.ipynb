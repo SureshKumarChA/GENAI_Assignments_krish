{
 "cells": [
  {
   "cell_type": "markdown",
   "id": "25e6b2d9",
   "metadata": {},
   "source": [
    "### Tool Calling Sample Code."
   ]
  },
  {
   "cell_type": "code",
   "execution_count": 61,
   "id": "454ca81c",
   "metadata": {},
   "outputs": [],
   "source": [
    "import os\n",
    "from langchain_community.tools import WikipediaQueryRun\n",
    "from langchain_community.utilities import WikipediaAPIWrapper"
   ]
  },
  {
   "cell_type": "code",
   "execution_count": 57,
   "id": "cb2533bf",
   "metadata": {},
   "outputs": [
    {
     "data": {
      "text/plain": [
       "'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'"
      ]
     },
     "execution_count": 57,
     "metadata": {},
     "output_type": "execute_result"
    }
   ],
   "source": [
    "\n",
    "from dotenv import load_dotenv\n",
    "load_dotenv()\n",
    "\n",
    "TAVILY_API_KEY = os.getenv(\"TAVILY_API_KEY\")\n",
    "TAVILY_API_KEY\n"
   ]
  },
  {
   "cell_type": "code",
   "execution_count": 35,
   "id": "1700e1fe",
   "metadata": {},
   "outputs": [],
   "source": [
    "api_wrapper = WikipediaAPIWrapper(top_k_results = 5, doc_content_chars_max = 500)"
   ]
  },
  {
   "cell_type": "code",
   "execution_count": 36,
   "id": "4937fb95",
   "metadata": {},
   "outputs": [],
   "source": [
    "wiki_tool = WikipediaQueryRun(api_wrapper = api_wrapper)"
   ]
  },
  {
   "cell_type": "code",
   "execution_count": 37,
   "id": "57a6158f",
   "metadata": {},
   "outputs": [
    {
     "data": {
      "text/plain": [
       "'wikipedia'"
      ]
     },
     "execution_count": 37,
     "metadata": {},
     "output_type": "execute_result"
    }
   ],
   "source": [
    "wiki_tool.name"
   ]
  },
  {
   "cell_type": "code",
   "execution_count": 39,
   "id": "1d7259e4",
   "metadata": {},
   "outputs": [
    {
     "data": {
      "text/plain": [
       "'A wrapper around Wikipedia. Useful for when you need to answer general questions about people, places, companies, facts, historical events, or other subjects. Input should be a search query.'"
      ]
     },
     "execution_count": 39,
     "metadata": {},
     "output_type": "execute_result"
    }
   ],
   "source": [
    "wiki_tool.description"
   ]
  },
  {
   "cell_type": "code",
   "execution_count": 40,
   "id": "ab731817",
   "metadata": {},
   "outputs": [
    {
     "data": {
      "text/plain": [
       "{'query': {'description': 'query to look up on wikipedia',\n",
       "  'title': 'Query',\n",
       "  'type': 'string'}}"
      ]
     },
     "execution_count": 40,
     "metadata": {},
     "output_type": "execute_result"
    }
   ],
   "source": [
    "wiki_tool.args"
   ]
  },
  {
   "cell_type": "code",
   "execution_count": 41,
   "id": "a155b524",
   "metadata": {},
   "outputs": [
    {
     "data": {
      "text/plain": [
       "\"Page: Elon Musk\\nSummary: Elon Reeve Musk ( EE-lon; born June 28, 1971) is a businessman known for his leadership of Tesla, SpaceX, X (formerly Twitter) and DOGE. Musk has been considered the wealthiest person in the world since 2021; as of May 2025, Forbes estimates his net worth to be US$424.7 billion. \\nBorn to a wealthy family in Pretoria, South Africa, Musk emigrated in 1989 to Canada. He received bachelor's degrees from the University of Pennsylvania in 1997 before moving to California, Unit\""
      ]
     },
     "execution_count": 41,
     "metadata": {},
     "output_type": "execute_result"
    }
   ],
   "source": [
    "wiki_tool.run({\"query\" : \"Elon Musk\"})"
   ]
  },
  {
   "cell_type": "code",
   "execution_count": 20,
   "id": "ccd92970",
   "metadata": {},
   "outputs": [
    {
     "name": "stderr",
     "output_type": "stream",
     "text": [
      "/Users/sureshcheepurupalli/Documents/GNENAI_COURSE/GENAI_Practice/GENAI_Basics/venv/lib/python3.13/site-packages/wikipedia/wikipedia.py:389: GuessedAtParserWarning: No parser was explicitly specified, so I'm using the best available HTML parser for this system (\"html.parser\"). This usually isn't a problem, but if you run this code on another system, or in a different virtual environment, it may use a different parser and behave differently.\n",
      "\n",
      "The code that caused this warning is on line 389 of the file /Users/sureshcheepurupalli/Documents/GNENAI_COURSE/GENAI_Practice/GENAI_Basics/venv/lib/python3.13/site-packages/wikipedia/wikipedia.py. To get rid of this warning, pass the additional argument 'features=\"html.parser\"' to the BeautifulSoup constructor.\n",
      "\n",
      "  lis = BeautifulSoup(html).find_all('li')\n"
     ]
    },
    {
     "data": {
      "text/plain": [
       "\"Page: Royal Challengers Bengaluru\\nSummary: Royal Challengers Bengaluru, formerly known as Royal Challengers Bangalore, commonly known as RCB, is a professional T20 franchise cricket team based in Bengaluru, Karnataka, that competes in the Indian Premier League. Founded in 2008 by United Spirits, the team's home ground is M. Chinnaswamy Stadium. RCB won their first title in 2025. The team has also finished as the runners-up on three occasions: in 2009, 2011, and 2016. They have also qualified for\""
      ]
     },
     "execution_count": 20,
     "metadata": {},
     "output_type": "execute_result"
    }
   ],
   "source": [
    "wiki_tool.run(\"RCB\")"
   ]
  },
  {
   "cell_type": "code",
   "execution_count": 23,
   "id": "792e84be",
   "metadata": {},
   "outputs": [],
   "source": [
    "from langchain_community.tools import YouTubeSearchTool\n",
    "\n",
    "tool = YouTubeSearchTool()"
   ]
  },
  {
   "cell_type": "code",
   "execution_count": 24,
   "id": "e8253e16",
   "metadata": {},
   "outputs": [
    {
     "data": {
      "text/plain": [
       "'youtube_search'"
      ]
     },
     "execution_count": 24,
     "metadata": {},
     "output_type": "execute_result"
    }
   ],
   "source": [
    "tool.name"
   ]
  },
  {
   "cell_type": "code",
   "execution_count": 60,
   "id": "c3c3f997",
   "metadata": {},
   "outputs": [
    {
     "data": {
      "text/plain": [
       "[{'title': 'Krish Naik Academy',\n",
       "  'url': 'https://krishnaikacademy.com/',\n",
       "  'content': \"![Image 17: asset](https://tagmango.com/staticassets/-whatsapp-image-2025-02-26-at-21-1942ded71131e6faf511b8c188197f14.jpeg)\\n\\n**Krish Naik**\\n--------------\\n\\n[LinkedIn](https://www.linkedin.com/in/naikkrish/)\\n**With 14+ years in data science, I've worked with companies like Panasonic, EY, Honeywell, and HCL. As a mentor for 10+ years and founder of Krish AI Technologies, I’m focused on driving AI innovation and guiding the next generation of tech talent.** [...] Courses taught by Krish Naik, a renowned YouTube educator and data science expert with a decade of industry experience. \\n\\nHands-On, Real-World Projects\\n\\nEach course includes hands-on workshops and live sessions where you work on real-world projects using cutting-edge tools like Langchain, Apache Airflow, and Google Gemini Pro.\\n\\nFlexible Learning: Free & Paid Options\\n\\nAccess a range of free workshops on advanced topics, or opt for more in-depth paid courses with live mentoring. \\n\\nOur Mentors [...] **is at the forefront of education in the fields of Data Science, Machine Learning, Generative AI, Deep Learning, and related technologies. Founded by industry veteran Krish Naik, who has over 13 years of experience in the data analytics industry and more than 7 years of teaching expertise, our mission is to equip learners with the skills and knowledge required to excel in the rapidly evolving tech landscape.**\",\n",
       "  'score': 0.74273956},\n",
       " {'title': 'Krish Naik - KRISHAI Technologies Private Limited | LinkedIn',\n",
       "  'url': 'https://in.linkedin.com/in/naikkrish',\n",
       "  'content': '### Tech Lead\\n[Honeywell](https://www.linkedin.com/company/honeywell/)  \\nDec 2017 - Sep 2018  \\nBengaluru Area, India \\n\\uf076\\tAdroit in Python with libraries such as Sklearn, Numpy, Pandas, Matplotlib, Tableau for Data Visualization, Keras, Tensorflow ,C#,ASP.NET MVC, Sitecore CMS, Solr 5.5.1,MVC , SQL Server, AJAX,  XML & Microsoft Cognitive Services\\n\\uf076\\tProficiently handled some internal projects using tools such as Tableau for data visualization and reporting the product owner [...] Currently Spear Heading as a Technical Lead with Honeywell Technology Solution, Bangalore, India. Actively contributes in conducting expert business & systems analysis, identifying business improvements & information systems solutions, coordinating & scheduling projects, developing & monitoring project plans, and managing the end-to-end delivery of projects [...] ### Senior Lead Data Scientist\\n[Panasonic India](https://www.linkedin.com/company/panasonicindia/)  \\nJan 2019 - Sep 2020  \\nBangalore \\nInvolved in Data Preprocessing Techniques for making the data useful for creating Machine\\nLearning models\\n\\uf0c0 Owned and executed end to end multiple data science projects\\n\\uf0c0 Translate product requirements into analytical requiremnets/specification, design and develop\\nrequired functionality.\\n\\uf0c0 Leveraged technology to automate daily operational activities.',\n",
       "  'score': 0.6897452},\n",
       " {'title': \"Krish Naik's Post - LinkedIn\",\n",
       "  'url': 'https://www.linkedin.com/posts/naikkrish_hello-guys-for-who-dont-know-me-my-name-activity-7265541030966358016-mJUO',\n",
       "  'content': \"Hello Guys, For who dont know me, my name is Krish Naik and I have been teaching from past 6 years and have a overall experience of 13 years. The last 6 years was amazing for me since I was able to help many people make career transition and learn AI and Data Science, so that is the reasom why I have made this as full time work. The best part of my journey is that I have met and spoken to numerous people from various back ground with different excperience,which has just streamlined my process [...] *   [Report this comment](https://www.linkedin.com/uas/login?session_redirect=https%3A%2F%2Fwww.linkedin.com%2Fposts%2Fnaikkrish_hello-guys-for-who-dont-know-me-my-name-activity-7265541030966358016-mJUO&trk=public_post_comment_ellipsis-menu-semaphore-sign-in-redirect&guestReportContentType=COMMENT&_f=guest-reporting)\\n\\n[Krish Naik](https://in.linkedin.com/in/naikkrish?trk=public_post_comment-text), sounds like you're on a mission to level up the career game! nice work [...] [Krish Naik](https://in.linkedin.com/in/naikkrish?trk=public_post_comment-text) Sir i am looking for mobile and web software architecture course where i needs to learn how client interact with database and backend please suggest me a course on it so that i will be able to draw a architectures at high level.\",\n",
       "  'score': 0.6821721},\n",
       " {'title': 'Krish Naik - YouTube',\n",
       "  'url': 'https://www.youtube.com/channel/UCNU_lfiiWBdtULKOw6X0Dig',\n",
       "  'content': 'I am the Founder of KrishAI Technologies Private Limited and my experience is pioneering in machine learning, deep learning, and computer vision,an educator',\n",
       "  'score': 0.6609831},\n",
       " {'title': 'Krish Naik | Chief AI Engineer - Udemy',\n",
       "  'url': 'https://www.udemy.com/user/krish-naik/?srsltid=AfmBOooc69OYdskNiCmJdhZ3zDkzQjosXXSVt6bweIrLqRQLJfZah8oH',\n",
       "  'content': 'I am the Ex Co-founder and Chief AI Engineer of iNeuron and my experience is pioneering in machine learning, deep learning, and computer vision,Generative',\n",
       "  'score': 0.6337056}]"
      ]
     },
     "execution_count": 60,
     "metadata": {},
     "output_type": "execute_result"
    }
   ],
   "source": [
    "\n",
    "tool.run(\"Krish Naik\")"
   ]
  },
  {
   "cell_type": "code",
   "execution_count": 42,
   "id": "598e6d4b",
   "metadata": {},
   "outputs": [],
   "source": [
    "from langchain_community.tools.tavily_search import TavilySearchResults"
   ]
  },
  {
   "cell_type": "code",
   "execution_count": 58,
   "id": "db751194",
   "metadata": {},
   "outputs": [
    {
     "data": {
      "text/plain": [
       "[{'title': 'Royal Challengers Bengaluru lift maiden IPL title in 18 years',\n",
       "  'url': 'https://www.thehindu.com/sport/cricket/ipl-2025-finals-royal-challengers-bengaluru-vs-punjab-kings-live-updates/article69651917.ece',\n",
       "  'content': 'A fter sent into bat by Punjab Kings, Royal Challengers Bengaluru finished at 190 during the Indian Premier League 2025 final in Ahmedabad on Tuesday (June 3, 2025).\\n\\nRoyal Challengers Bengaluru lost Phil Salt for 16 with the score at 18. Then Mayank Agarwal (24) and Virat Kohli (43) consolidated the innings. Chahal struck in his first over by removing Agarwal with the score at 56. [...] *   June 03, 2025 16:37  RCB hope for strong Virat Kohli performance in IPL final, star batter has mixed record in title outings Former India skipper Virat Kohli has performed well many times in big games and Royal Challengers Bengaluru will be hoping for a strong performance from him in the Indian Premier League (IPL) 2025 final against Punjab Kings (PBKS) on Tuesday (June 3, 2025). The Rajat Patidar-led side and the Punjab-based franchise will lock horns against each other in the final of the [...] *   June 03, 2025 17:30  RCB frenzy grips Bengaluru ahead of IPL 2025 final, city police make elaborate security arrangements  As Royal Challengers Bengaluru (RCB) get ready to fight it out one last time in the final match of this year’s Indian Premier League (IPL) against Punjab Kings, fans back home are beyond excited. Many have been out on the road from Tuesday (June 3, 2025) afternoon itself buying merchandise, arranging screenings and some even taking out bike rallies with flags.',\n",
       "  'score': 0.78473216},\n",
       " {'title': 'Royal Challengers Bengaluru - Wikipedia',\n",
       "  'url': 'https://en.wikipedia.org/wiki/Royal_Challengers_Bengaluru',\n",
       "  'content': '| **[2015](https://en.wikipedia.org/wiki/Royal_Challengers_Bangalore_in_2015 \"Royal Challengers Bangalore in 2015\")** | 16 | 8 | 6 | 2 | 3/8 | Playoffs |\\n| **[2016](https://en.wikipedia.org/wiki/Royal_Challengers_Bangalore_in_2016 \"Royal Challengers Bangalore in 2016\")** | 16 | 9 | 7 | 0 | 2/8 | **Runners-up** |\\n| **[2017](https://en.wikipedia.org/wiki/Royal_Challengers_Bangalore_in_2017 \"Royal Challengers Bangalore in 2017\")** | 14 | 3 | 10 | 1 | 8/8 | League stage | [...] | **[2018](https://en.wikipedia.org/wiki/Royal_Challengers_Bangalore_in_2018 \"Royal Challengers Bangalore in 2018\")** | 14 | 6 | 8 | 0 | 6/8 | League stage |\\n| **[2019](https://en.wikipedia.org/wiki/Royal_Challengers_Bangalore_in_2019 \"Royal Challengers Bangalore in 2019\")** | 14 | 5 | 8 | 1 | 8/8 | League stage |\\n| **[2020](https://en.wikipedia.org/wiki/Royal_Challengers_Bangalore_in_2020 \"Royal Challengers Bangalore in 2020\")** | 15 | 7 | 8 | 0 | 4/8 | Playoffs | [...] Chinnaswamy Stadium\"), and won by 4 wickets, advancing to their third final in nine seasons.[\\\\[83\\\\]](https://en.wikipedia.org/wiki/Royal_Challengers_Bengaluru#cite_note-84) In the final against Sunrisers Hyderabad in Bangalore, RCB lost by 8 runs, ending the season as runners-up for the third time in IPL history.[\\\\[84\\\\]](https://en.wikipedia.org/wiki/Royal_Challengers_Bengaluru#cite_note-85) Yuzvendra Chahal and Shane Watson were the second and third highest wicket-takers of the tournament,',\n",
       "  'score': 0.7393665},\n",
       " {'title': 'Kohli and RCB are finally IPL champions',\n",
       "  'url': 'https://www.espncricinfo.com/series/ipl-2025-1449924/punjab-kings-vs-royal-challengers-bengaluru-final-1473511/match-report',\n",
       "  'content': 'Eighteen seasons in, [Royal Challengers Bengaluru](https://www.espncricinfo.com/team/royal-challengers-bengaluru-335970) (RCB) are finally IPL champions. Their victory in their fourth final came at the expense of another trophy-less team that had put together a heartwarming [IPL 2025](https://www.espncricinfo.com/series/ipl-2025-1449924) campaign; it wasn\\'t to be for [Punjab Kings](https://www.espncricinfo.com/team/punjab-kings-335973) (PBKS), but their time will surely come too. [...] ![Image 25: Punjab Kings Flag](https://wassets.hscicdn.com/static/images/lazyimage-transparent.png)[Punjab Kings](https://www.espncricinfo.com/team/punjab-kings-335973 \"Punjab Kings\")\\n\\n(20 ov, T:191) **184/7**\\n\\nRCB won by 6 runs\\n\\nCricinfo\\'s MVP\\n\\n[Krunal Pandya](https://www.espncricinfo.com/cricketers/krunal-pandya-471342 \"Krunal Pandya\")\\n\\n, RCB [...] | Team | M | W | L | PT | NRR |\\n| --- | --- | --- | --- | --- | --- |\\n| [PBKS](https://www.espncricinfo.com/team/punjab-kings-335973 \"PBKS\") | 14 | 9 | 4 | 19 | 0.372 |\\n| [RCB](https://www.espncricinfo.com/team/royal-challengers-bengaluru-335970 \"RCB\") | 14 | 9 | 4 | 19 | 0.301 |\\n| [GT](https://www.espncricinfo.com/team/gujarat-titans-1298769 \"GT\") | 14 | 9 | 5 | 18 | 0.254 |\\n| [MI](https://www.espncricinfo.com/team/mumbai-indians-335978 \"MI\") | 14 | 8 | 6 | 16 | 1.142 |',\n",
       "  'score': 0.7237202},\n",
       " {'title': 'TATA IPL 2025, FINAL, RCB vs PBKS - Match Report',\n",
       "  'url': 'https://www.iplt20.com/news/4241/tata-ipl-2025-final-rcb-vs-pbks-match-report',\n",
       "  'content': 'In a game that was most fitting for a final, Royal Challengers Bengaluru (RCB) managed to keep their nerves to beat Punjab Kings (PBKS) by six runs. With both teams in Red fighting for their maiden title, there was always going to be joy on one side and heartbreak on the other.\\n\\n[A post shared by IPL (@iplt20)](https://www.instagram.com/p/DKcp_XQy11x/?utm_source=ig_embed&utm_campaign=loading) [...] In a game that was most fitting for a final, Royal Challengers Bengaluru (RCB) managed to keep their nerves to beat Punjab Kings (PBKS) by six runs. With both teams in Red fighting for their maiden title, there was always going to be joy on one side and heartbreak on the other.\\n\\n> View this post on Instagram\\n>\\n> [A post shared by IPL (@iplt20)](https://www.instagram.com/p/DKcp_XQy11x/?utm_source=ig_embed&utm_campaign=loading) [...] The RCB innings seemed to have continued the trend of see-saw as each time RCB looked to get a move on, they seemed to lose a wicket. The 2nd, 3rd,4th, and 5th wicket partnerships read 38, 40, 35, and 36 with Mayank Agarwal scoring 24, Rajat Patidar 26, Livingstone 25, Jitesh 24, and Shepherd 17 all falling trying to get a move on. Kohli was the top scorer and held the fort for most of the innings, scoring a patient 43. At the end they managed to finish with 190/9, which many felt was 20-30',\n",
       "  'score': 0.70336664},\n",
       " {'title': 'Kohli wins first IPL title as RCB beat Punjab Kings in final - Al Jazeera',\n",
       "  'url': 'https://www.aljazeera.com/sports/2025/6/3/ipl-final-2025-rcb-punjab-kings',\n",
       "  'content': 'Royal Challengers Bengaluru demolishes Punjab Kings with eight-wicket win to reach first IPL final since 2016. Published On 29 May 202529 May',\n",
       "  'score': 0.650934}]"
      ]
     },
     "execution_count": 58,
     "metadata": {},
     "output_type": "execute_result"
    }
   ],
   "source": [
    "tool = TavilySearchResults(tavily_api_key = TAVILY_API_KEY)\n",
    "\n",
    "tool.invoke({\"query\" : \"RCB's IPL FINNAL\"})"
   ]
  },
  {
   "cell_type": "markdown",
   "id": "362b44b1",
   "metadata": {},
   "source": [
    "pip install youtube-search-python\n",
    "pip install youtube-search"
   ]
  },
  {
   "cell_type": "markdown",
   "id": "27de2a39",
   "metadata": {},
   "source": [
    "### Custom Tool. \n",
    "\n",
    "A tool is a function.(Already implemented functionality)\n",
    "\n"
   ]
  },
  {
   "cell_type": "code",
   "execution_count": null,
   "id": "bc06d3ba",
   "metadata": {},
   "outputs": [],
   "source": [
    "from langchain.agents import tool\n",
    " \n",
    "### Name of the tool is multiply. We can use Class as tool also.\n",
    "\n",
    "@tool\n",
    "def multiply( a:int, b:int) -> int:\n",
    "    ''' This tool is for Multiplication. '''\n",
    "    return a * b"
   ]
  },
  {
   "cell_type": "code",
   "execution_count": null,
   "id": "95d4952e",
   "metadata": {},
   "outputs": [
    {
     "data": {
      "text/plain": [
       "200"
      ]
     },
     "execution_count": 82,
     "metadata": {},
     "output_type": "execute_result"
    }
   ],
   "source": [
    "multiply.invoke({\"a\" : 10, \"b\" : 20}) ### Recommended to use invoke().\n",
    "#multiply.run({\"a\" : 20, \"b\" : 20})"
   ]
  },
  {
   "cell_type": "code",
   "execution_count": 83,
   "id": "0048a230",
   "metadata": {},
   "outputs": [
    {
     "data": {
      "text/plain": [
       "'This tool is for Multiplication.'"
      ]
     },
     "execution_count": 83,
     "metadata": {},
     "output_type": "execute_result"
    }
   ],
   "source": [
    "multiply.description"
   ]
  },
  {
   "cell_type": "code",
   "execution_count": 84,
   "id": "335f1e9b",
   "metadata": {},
   "outputs": [
    {
     "data": {
      "text/plain": [
       "{'a': {'title': 'A', 'type': 'integer'},\n",
       " 'b': {'title': 'B', 'type': 'integer'}}"
      ]
     },
     "execution_count": 84,
     "metadata": {},
     "output_type": "execute_result"
    }
   ],
   "source": [
    "multiply.args"
   ]
  },
  {
   "cell_type": "code",
   "execution_count": 85,
   "id": "8383e716",
   "metadata": {},
   "outputs": [],
   "source": [
    "def get_word_length(word : str) -> int:\n",
    "    return len(word)"
   ]
  },
  {
   "cell_type": "code",
   "execution_count": 86,
   "id": "c1c65df1",
   "metadata": {},
   "outputs": [
    {
     "data": {
      "text/plain": [
       "6"
      ]
     },
     "execution_count": 86,
     "metadata": {},
     "output_type": "execute_result"
    }
   ],
   "source": [
    "get_word_length(\"Suresh\")"
   ]
  },
  {
   "cell_type": "code",
   "execution_count": 90,
   "id": "39278036",
   "metadata": {},
   "outputs": [],
   "source": [
    "@tool\n",
    "def get_word_length_tool(word : str) -> int:\n",
    "    ''' Word length tool '''\n",
    "    return len(word)"
   ]
  },
  {
   "cell_type": "code",
   "execution_count": 92,
   "id": "2a5d045c",
   "metadata": {},
   "outputs": [
    {
     "data": {
      "text/plain": [
       "'Word length tool'"
      ]
     },
     "execution_count": 92,
     "metadata": {},
     "output_type": "execute_result"
    }
   ],
   "source": [
    "get_word_length_tool.description"
   ]
  },
  {
   "cell_type": "code",
   "execution_count": 93,
   "id": "0e859948",
   "metadata": {},
   "outputs": [
    {
     "data": {
      "text/plain": [
       "{'word': {'title': 'Word', 'type': 'string'}}"
      ]
     },
     "execution_count": 93,
     "metadata": {},
     "output_type": "execute_result"
    }
   ],
   "source": [
    "get_word_length_tool.args"
   ]
  },
  {
   "cell_type": "code",
   "execution_count": 99,
   "id": "6f187065",
   "metadata": {},
   "outputs": [
    {
     "data": {
      "text/plain": [
       "20"
      ]
     },
     "execution_count": 99,
     "metadata": {},
     "output_type": "execute_result"
    }
   ],
   "source": [
    "get_word_length_tool.invoke(\"Suresh\")\n",
    "get_word_length_tool(\"Suresh Cheepurupalli\") ### Since it has one Argument, We can call as function."
   ]
  },
  {
   "cell_type": "code",
   "execution_count": 98,
   "id": "007bc2a1",
   "metadata": {},
   "outputs": [],
   "source": [
    "@tool\n",
    "def call_gmail_api(args):\n",
    "    ''' This is a gmail calling api '''\n",
    "    pass"
   ]
  },
  {
   "cell_type": "code",
   "execution_count": 100,
   "id": "75b92537",
   "metadata": {},
   "outputs": [
    {
     "name": "stdout",
     "output_type": "stream",
     "text": [
      "All Ok\n"
     ]
    }
   ],
   "source": [
    "print('All Ok')"
   ]
  }
 ],
 "metadata": {
  "kernelspec": {
   "display_name": "venv",
   "language": "python",
   "name": "python3"
  },
  "language_info": {
   "codemirror_mode": {
    "name": "ipython",
    "version": 3
   },
   "file_extension": ".py",
   "mimetype": "text/x-python",
   "name": "python",
   "nbconvert_exporter": "python",
   "pygments_lexer": "ipython3",
   "version": "3.13.2"
  }
 },
 "nbformat": 4,
 "nbformat_minor": 5
}
