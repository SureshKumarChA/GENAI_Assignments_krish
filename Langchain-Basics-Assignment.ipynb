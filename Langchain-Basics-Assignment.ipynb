{
 "cells": [
  {
   "cell_type": "code",
   "execution_count": 32,
   "id": "69d1f75f",
   "metadata": {},
   "outputs": [
    {
     "data": {
      "text/plain": [
       "True"
      ]
     },
     "execution_count": 32,
     "metadata": {},
     "output_type": "execute_result"
    }
   ],
   "source": [
    "import os\n",
    "from dotenv import load_dotenv\n",
    "load_dotenv()"
   ]
  },
  {
   "cell_type": "code",
   "execution_count": null,
   "id": "38a2b121",
   "metadata": {},
   "outputs": [],
   "source": [
    "os.environ[\"OPENAI_API_KEY\"] = os.getenv(\"OPENAI_API_KEY\")"
   ]
  },
  {
   "cell_type": "code",
   "execution_count": 34,
   "id": "5a782c05",
   "metadata": {},
   "outputs": [
    {
     "data": {
      "text/plain": [
       "{'productName': 'Samsung Galaxy Ultra Phone',\n",
       " 'prodictDetails': 'The Samsung Galaxy Ultra Phone is a high-end smartphone with top-of-the-line features such as a large AMOLED display, multiple cameras, and a powerful processor.',\n",
       " 'prodictPrice': 1099.99}"
      ]
     },
     "execution_count": 34,
     "metadata": {},
     "output_type": "execute_result"
    }
   ],
   "source": [
    "from langchain_core.output_parsers import JsonOutputParser\n",
    "from langchain_core.prompts import PromptTemplate\n",
    "from langchain_openai import ChatOpenAI\n",
    "from pydantic import BaseModel, Field\n",
    "\n",
    "\n",
    "# Define your desired data structure.\n",
    "class Product(BaseModel):\n",
    "    productName: str = Field(description=\"Product Name\")\n",
    "    prodictDetails: str = Field(description=\"Product Details\")\n",
    "    prodictPrice: float = Field(description=\"Product Price\")\n",
    "\n",
    "\n",
    "model = ChatOpenAI(temperature=0.5)\n",
    "\n",
    "product_query = \"Tell me the details like Product name , Product details, Product price of the product Samsung Galaxy Ultra Phone.\"\n",
    "\n",
    "parser = JsonOutputParser(pydantic_object=Product)\n",
    "\n",
    "prompt = PromptTemplate(\n",
    "    template=\"Answer the user query.\\n{format_instructions}\\n{query}\\n\",\n",
    "    input_variables=[\"query\"],\n",
    "    partial_variables={\"format_instructions\": parser.get_format_instructions()},\n",
    ")\n",
    "\n",
    "\n",
    "\n",
    "chain = prompt | model | parser\n",
    "\n",
    "chain.invoke({\"query\": product_query})"
   ]
  },
  {
   "cell_type": "code",
   "execution_count": 37,
   "id": "09fad110",
   "metadata": {},
   "outputs": [
    {
     "data": {
      "text/plain": [
       "Product(productName='Samsung Galaxy Ultra Phone', prodictDetails='High-end smartphone with top-of-the-line features and specifications.', prodictPrice=1099.99)"
      ]
     },
     "execution_count": 37,
     "metadata": {},
     "output_type": "execute_result"
    }
   ],
   "source": [
    "from langchain.output_parsers import YamlOutputParser\n",
    "from langchain_core.prompts import PromptTemplate\n",
    "from langchain_openai import ChatOpenAI\n",
    "from pydantic import BaseModel, Field\n",
    "\n",
    "\n",
    "# Define your desired data structure.\n",
    "class Product(BaseModel):\n",
    "    productName: str = Field(description=\"Product Name\")\n",
    "    prodictDetails: str = Field(description=\"Product Details\")\n",
    "    prodictPrice: float = Field(description=\"Product Price\")\n",
    "\n",
    "\n",
    "model = ChatOpenAI(temperature=0.5)\n",
    "\n",
    "product_query = \"Tell me the details like Product name , Product details, Product price of the product Samsung Galaxy Ultra Phone.\"\n",
    "\n",
    "parser = YamlOutputParser(pydantic_object=Product)\n",
    "\n",
    "prompt = PromptTemplate(\n",
    "    template=\"Answer the user query.\\n{format_instructions}\\n{query}\\n\",\n",
    "    input_variables=[\"query\"],\n",
    "    partial_variables={\"format_instructions\": parser.get_format_instructions()},\n",
    ")\n",
    "\n",
    "\n",
    "\n",
    "chain = prompt | model | parser\n",
    "\n",
    "chain.invoke({\"query\": product_query})"
   ]
  },
  {
   "cell_type": "code",
   "execution_count": null,
   "id": "a31dd45d",
   "metadata": {},
   "outputs": [
    {
     "data": {
      "text/plain": [
       "AIMessage(content='<response><productdetails>\\n<ProductName>Samsung Galaxy Ultra Phone</ProductName>\\n<ProductDetails>The Samsung Galaxy Ultra Phone is a premium smartphone with top-of-the-line features such as a high-resolution display, powerful camera system, and fast processor.</ProductDetails>\\n<ProductPrice>$1,199.99</ProductPrice>\\n</productdetails></response>', additional_kwargs={'refusal': None}, response_metadata={'token_usage': {'completion_tokens': 69, 'prompt_tokens': 58, 'total_tokens': 127, 'completion_tokens_details': {'accepted_prediction_tokens': 0, 'audio_tokens': 0, 'reasoning_tokens': 0, 'rejected_prediction_tokens': 0}, 'prompt_tokens_details': {'audio_tokens': 0, 'cached_tokens': 0}}, 'model_name': 'gpt-3.5-turbo-0125', 'system_fingerprint': None, 'id': 'chatcmpl-BccVMSrXjv6IIG7hX45jv6yfi0Ko5', 'service_tier': 'default', 'finish_reason': 'stop', 'logprobs': None}, id='run--debbe662-0091-41a0-b4a1-63f5fa456df3-0', usage_metadata={'input_tokens': 58, 'output_tokens': 69, 'total_tokens': 127, 'input_token_details': {'audio': 0, 'cache_read': 0}, 'output_token_details': {'audio': 0, 'reasoning': 0}})"
      ]
     },
     "execution_count": 44,
     "metadata": {},
     "output_type": "execute_result"
    }
   ],
   "source": [
    "from langchain.output_parsers import XMLOutputParser\n",
    "from langchain_core.prompts import ChatPromptTemplate\n",
    "from langchain_core.prompts import PromptTemplate\n",
    "from langchain_openai import ChatOpenAI\n",
    "from pydantic import BaseModel, Field\n",
    "\n",
    "\n",
    "# Define your desired data structure.\n",
    "class Product(BaseModel):\n",
    "    productName: str = Field(description=\"Product Name\")\n",
    "    prodictDetails: str = Field(description=\"Product Details\")\n",
    "    prodictPrice: float = Field(description=\"Product Price\")\n",
    "\n",
    "\n",
    "model = ChatOpenAI(temperature=0.5)\n",
    "\n",
    "product_query = \"Tell me the details like Product name , Product details, Product price of the product Samsung Galaxy Ultra Phone.\"\n",
    "\n",
    "output_parser = XMLOutputParser()\n",
    "\n",
    "\n",
    "prompt = ChatPromptTemplate.from_messages([\n",
    "    (\"system\", \"You are a helpful assistant. Respond in this XML format: <response><productdetails>Your answer here</productdetails></response>\"),\n",
    "    (\"human\", \"{input}\")\n",
    "])\n",
    "\n",
    "\n",
    "\n",
    "chain = prompt | model\n",
    "\n",
    "AIMessage = chain.invoke({\"input\": product_query})\n",
    "print(AIMessage.content)"
   ]
  }
 ],
 "metadata": {
  "kernelspec": {
   "display_name": "venv",
   "language": "python",
   "name": "python3"
  },
  "language_info": {
   "codemirror_mode": {
    "name": "ipython",
    "version": 3
   },
   "file_extension": ".py",
   "mimetype": "text/x-python",
   "name": "python",
   "nbconvert_exporter": "python",
   "pygments_lexer": "ipython3",
   "version": "3.13.2"
  }
 },
 "nbformat": 4,
 "nbformat_minor": 5
}
