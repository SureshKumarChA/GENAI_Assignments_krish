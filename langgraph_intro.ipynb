{
 "cells": [
  {
   "cell_type": "markdown",
   "id": "13702dfb",
   "metadata": {},
   "source": [
    "### Lang Graph : https://langchain-ai.github.io/langgraph/tutorials/get-started/1-build-basic-chatbot/#2-create-a-stategraph\n",
    "\n",
    "graph()\n",
    "state\n",
    "edges\n",
    "nodes\n",
    "invoke\n",
    "stategraph()"
   ]
  },
  {
   "cell_type": "markdown",
   "id": "df9c0a6a",
   "metadata": {},
   "source": [
    "DAG : dIRECT aCYCLIC GRAPH"
   ]
  },
  {
   "cell_type": "code",
   "execution_count": 12,
   "id": "6d4e6cc4",
   "metadata": {},
   "outputs": [],
   "source": [
    "def function1(input1):\n",
    "    return input1 + \"from first function\" "
   ]
  },
  {
   "cell_type": "code",
   "execution_count": null,
   "id": "f83079f3",
   "metadata": {},
   "outputs": [],
   "source": [
    "def function2(input2):\n",
    "    return input2 + \" , Savita from second function\" "
   ]
  },
  {
   "cell_type": "code",
   "execution_count": null,
   "id": "6c182ef7",
   "metadata": {},
   "outputs": [],
   "source": [
    "def function3(input3):\n",
    "    pass"
   ]
  },
  {
   "cell_type": "code",
   "execution_count": 55,
   "id": "7bdcb76f",
   "metadata": {},
   "outputs": [
    {
     "data": {
      "text/plain": [
       "'Sunnyfrom first function'"
      ]
     },
     "execution_count": 55,
     "metadata": {},
     "output_type": "execute_result"
    }
   ],
   "source": [
    "function1(\"Sunny\")"
   ]
  },
  {
   "cell_type": "code",
   "execution_count": 56,
   "id": "c03a7eb8",
   "metadata": {},
   "outputs": [
    {
     "data": {
      "text/plain": [
       "'Savita ,from second function'"
      ]
     },
     "execution_count": 56,
     "metadata": {},
     "output_type": "execute_result"
    }
   ],
   "source": [
    "function2(\"Savita\")"
   ]
  },
  {
   "cell_type": "code",
   "execution_count": 57,
   "id": "f65bcd43",
   "metadata": {},
   "outputs": [],
   "source": [
    "from langgraph.graph import Graph"
   ]
  },
  {
   "cell_type": "code",
   "execution_count": 58,
   "id": "d1c13ce7",
   "metadata": {},
   "outputs": [],
   "source": [
    "workflow1 = Graph()"
   ]
  },
  {
   "cell_type": "code",
   "execution_count": 59,
   "id": "1fb67774",
   "metadata": {},
   "outputs": [
    {
     "data": {
      "text/plain": [
       "<langgraph.graph.graph.Graph at 0x119c86fd0>"
      ]
     },
     "execution_count": 59,
     "metadata": {},
     "output_type": "execute_result"
    }
   ],
   "source": [
    "workflow1.add_node(\"fun1\", function1)\n",
    "workflow1.add_node(\"fun2\", function2)\n"
   ]
  },
  {
   "cell_type": "code",
   "execution_count": 60,
   "id": "cd9b61c4",
   "metadata": {},
   "outputs": [
    {
     "data": {
      "text/plain": [
       "<langgraph.graph.graph.Graph at 0x119c86fd0>"
      ]
     },
     "execution_count": 60,
     "metadata": {},
     "output_type": "execute_result"
    }
   ],
   "source": [
    "workflow1.add_edge(\"fun1\",\"fun2\")"
   ]
  },
  {
   "cell_type": "code",
   "execution_count": 61,
   "id": "40b8bf89",
   "metadata": {},
   "outputs": [
    {
     "data": {
      "text/plain": [
       "<langgraph.graph.graph.Graph at 0x119c86fd0>"
      ]
     },
     "execution_count": 61,
     "metadata": {},
     "output_type": "execute_result"
    }
   ],
   "source": [
    "workflow1.set_entry_point(\"fun1\")\n",
    "\n",
    "\n",
    "\n"
   ]
  },
  {
   "cell_type": "code",
   "execution_count": 62,
   "id": "0bea459d",
   "metadata": {},
   "outputs": [
    {
     "data": {
      "text/plain": [
       "<langgraph.graph.graph.Graph at 0x119c86fd0>"
      ]
     },
     "execution_count": 62,
     "metadata": {},
     "output_type": "execute_result"
    }
   ],
   "source": [
    "workflow1.set_finish_point(\"fun2\")"
   ]
  },
  {
   "cell_type": "code",
   "execution_count": 64,
   "id": "8d864254",
   "metadata": {},
   "outputs": [],
   "source": [
    "app=workflow1.compile()"
   ]
  },
  {
   "cell_type": "code",
   "execution_count": 65,
   "id": "3b07cf32",
   "metadata": {},
   "outputs": [
    {
     "data": {
      "text/plain": [
       "Graph(nodes={'fun1': Node(id='fun1', name='fun1', data=fun1(tags=None, recurse=True, explode_args=False, func_accepts_config=False, func_accepts={}), metadata=None), 'fun2': Node(id='fun2', name='fun2', data=fun2(tags=None, recurse=True, explode_args=False, func_accepts_config=False, func_accepts={}), metadata=None), '__start__': Node(id='__start__', name='__start__', data=None, metadata=None), '__end__': Node(id='__end__', name='__end__', data=None, metadata=None)}, edges=[Edge(source='__start__', target='fun1', data=None, conditional=False), Edge(source='fun1', target='fun2', data=None, conditional=False), Edge(source='fun2', target='__end__', data=None, conditional=False)])"
      ]
     },
     "execution_count": 65,
     "metadata": {},
     "output_type": "execute_result"
    }
   ],
   "source": [
    "app.get_graph()"
   ]
  },
  {
   "cell_type": "code",
   "execution_count": 52,
   "id": "d0a5e57a",
   "metadata": {},
   "outputs": [],
   "source": [
    "from IPython.display import Image, display"
   ]
  },
  {
   "cell_type": "code",
   "execution_count": 66,
   "id": "257de307",
   "metadata": {},
   "outputs": [
    {
     "data": {
      "image/png": "[encoded data removed]",
      "text/plain": [
       "<IPython.core.display.Image object>"
      ]
     },
     "metadata": {},
     "output_type": "display_data"
    }
   ],
   "source": [
    "display(Image(app.get_graph().draw_mermaid_png()))"
   ]
  },
  {
   "cell_type": "code",
   "execution_count": null,
   "id": "db72cd0c",
   "metadata": {},
   "outputs": [
    {
     "data": {
      "text/plain": [
       "'Hi This is Sunnyfrom first function ,from second function'"
      ]
     },
     "execution_count": 67,
     "metadata": {},
     "output_type": "execute_result"
    }
   ],
   "source": [
    "\n",
    "app.invoke(\"Hi This is Sunny\")"
   ]
  },
  {
   "cell_type": "code",
   "execution_count": 148,
   "id": "c6ac55e0",
   "metadata": {},
   "outputs": [
    {
     "name": "stdout",
     "output_type": "stream",
     "text": [
      "here is output from My_LLM\n",
      "_______\n",
      "That's great to hear! Is there anything I can help you with today?\n",
      "\n",
      "\n",
      "here is output from TOKEN_COUNTER\n",
      "_______\n",
      "total token number in the generated answer is 13\n",
      "\n",
      "\n"
     ]
    }
   ],
   "source": [
    "for output in app.stream(\"hi this is Excellent\"):\n",
    "    for key,value in output.items():\n",
    "        print(f\"here is output from {key}\")\n",
    "        print(\"_______\")\n",
    "        print(value)\n",
    "        print(\"\\n\")\n",
    "    "
   ]
  },
  {
   "cell_type": "code",
   "execution_count": 133,
   "id": "45167d66",
   "metadata": {},
   "outputs": [],
   "source": [
    "import os\n",
    "from dotenv import load_dotenv\n",
    "load_dotenv()\n",
    "os.environ[\"OPENAI_API_KEY\"]=os.getenv(\"OPENAI_API_KEY\")"
   ]
  },
  {
   "cell_type": "code",
   "execution_count": 134,
   "id": "d81d6c62",
   "metadata": {},
   "outputs": [],
   "source": [
    "def llm(input):\n",
    "    from langchain_google_genai import ChatGoogleGenerativeAI\n",
    "    model=ChatGoogleGenerativeAI(model='gemini-1.5-flash')\n",
    "    output=model.invoke(input)\n",
    "    return output.content"
   ]
  },
  {
   "cell_type": "code",
   "execution_count": 135,
   "id": "e23f222b",
   "metadata": {},
   "outputs": [],
   "source": [
    "def token_counter(input):\n",
    "    token=input.split()\n",
    "    token_number=len(token)\n",
    "    return f\"total token number in the generated answer is {token_number}\""
   ]
  },
  {
   "cell_type": "code",
   "execution_count": 136,
   "id": "a57f2bf0",
   "metadata": {},
   "outputs": [],
   "source": [
    "work_flow2 = Graph()"
   ]
  },
  {
   "cell_type": "code",
   "execution_count": 137,
   "id": "af02d6b0",
   "metadata": {},
   "outputs": [
    {
     "data": {
      "text/plain": [
       "<langgraph.graph.graph.Graph at 0x11d649130>"
      ]
     },
     "execution_count": 137,
     "metadata": {},
     "output_type": "execute_result"
    }
   ],
   "source": [
    "work_flow2.add_node(\"My_LLM\", llm)\n",
    "work_flow2.add_node(\"TOKEN_COUNTER\", token_counter)"
   ]
  },
  {
   "cell_type": "code",
   "execution_count": 138,
   "id": "6482d0cb",
   "metadata": {},
   "outputs": [
    {
     "data": {
      "text/plain": [
       "<langgraph.graph.graph.Graph at 0x11d649130>"
      ]
     },
     "execution_count": 138,
     "metadata": {},
     "output_type": "execute_result"
    }
   ],
   "source": [
    "work_flow2.add_edge(\"My_LLM\",\"TOKEN_COUNTER\")"
   ]
  },
  {
   "cell_type": "code",
   "execution_count": 139,
   "id": "20e24ee7",
   "metadata": {},
   "outputs": [
    {
     "data": {
      "text/plain": [
       "<langgraph.graph.graph.Graph at 0x11d649130>"
      ]
     },
     "execution_count": 139,
     "metadata": {},
     "output_type": "execute_result"
    }
   ],
   "source": [
    "work_flow2.set_entry_point(\"My_LLM\")"
   ]
  },
  {
   "cell_type": "code",
   "execution_count": 140,
   "id": "34ed626a",
   "metadata": {},
   "outputs": [
    {
     "data": {
      "text/plain": [
       "<langgraph.graph.graph.Graph at 0x11d649130>"
      ]
     },
     "execution_count": 140,
     "metadata": {},
     "output_type": "execute_result"
    }
   ],
   "source": [
    "work_flow2.set_finish_point(\"TOKEN_COUNTER\")"
   ]
  },
  {
   "cell_type": "code",
   "execution_count": 141,
   "id": "2f816f0e",
   "metadata": {},
   "outputs": [],
   "source": [
    "app=work_flow2.compile()"
   ]
  },
  {
   "cell_type": "code",
   "execution_count": 142,
   "id": "b2eaa6b4",
   "metadata": {},
   "outputs": [
    {
     "data": {
      "text/plain": [
       "Graph(nodes={'My_LLM': Node(id='My_LLM', name='My_LLM', data=My_LLM(tags=None, recurse=True, explode_args=False, func_accepts_config=False, func_accepts={}), metadata=None), 'TOKEN_COUNTER': Node(id='TOKEN_COUNTER', name='TOKEN_COUNTER', data=TOKEN_COUNTER(tags=None, recurse=True, explode_args=False, func_accepts_config=False, func_accepts={}), metadata=None), '__start__': Node(id='__start__', name='__start__', data=None, metadata=None), '__end__': Node(id='__end__', name='__end__', data=None, metadata=None)}, edges=[Edge(source='__start__', target='My_LLM', data=None, conditional=False), Edge(source='My_LLM', target='TOKEN_COUNTER', data=None, conditional=False), Edge(source='TOKEN_COUNTER', target='__end__', data=None, conditional=False)])"
      ]
     },
     "execution_count": 142,
     "metadata": {},
     "output_type": "execute_result"
    }
   ],
   "source": [
    "app.get_graph()"
   ]
  },
  {
   "cell_type": "code",
   "execution_count": 143,
   "id": "e3a9dfe2",
   "metadata": {},
   "outputs": [],
   "source": [
    "from IPython.display import Image, display"
   ]
  },
  {
   "cell_type": "code",
   "execution_count": 144,
   "id": "5b95f96e",
   "metadata": {},
   "outputs": [
    {
     "data": {
      "image/png": "[encoded data removed]",
      "text/plain": [
       "<IPython.core.display.Image object>"
      ]
     },
     "metadata": {},
     "output_type": "display_data"
    }
   ],
   "source": [
    "display(Image(app.get_graph().draw_mermaid_png()))"
   ]
  },
  {
   "cell_type": "code",
   "execution_count": 145,
   "id": "cf8b643a",
   "metadata": {},
   "outputs": [
    {
     "data": {
      "text/plain": [
       "'total token number in the generated answer is 8'"
      ]
     },
     "execution_count": 145,
     "metadata": {},
     "output_type": "execute_result"
    }
   ],
   "source": [
    "app.invoke(\"Hi This is Sunny\")"
   ]
  },
  {
   "cell_type": "code",
   "execution_count": 146,
   "id": "a20fdfc4",
   "metadata": {},
   "outputs": [
    {
     "name": "stdout",
     "output_type": "stream",
     "text": [
      "here is output from My_LLM\n",
      "_______\n",
      "Tata Enterprises, more accurately referred to as the **Tata Group**, is a massive Indian multinational conglomerate headquartered in Mumbai.  It's not a single entity but a network of over 100 operating companies, under the umbrella of Tata Sons, a holding company.  Its history, scale, and influence are vast, making a comprehensive overview challenging, but here's a detailed look at various aspects:\n",
      "\n",
      "**I. History and Founding:**\n",
      "\n",
      "* **Early Days:** The group's origins trace back to 1868 with the establishment of a trading company in Mumbai by Jamsetji Tata.  His visionary leadership laid the foundation for the conglomerate's diversification and commitment to social responsibility.  Key early ventures included textile mills and hydroelectric power generation.\n",
      "* **Diversification and Growth:**  Under subsequent leadership, the group expanded aggressively into diverse sectors, including steel (Tata Steel), automobiles (Tata Motors), hospitality (Taj Hotels), and telecommunications (Tata Consultancy Services - TCS).  This diversification mitigated risk and provided resilience during economic downturns.\n",
      "* **Post-Independence Growth:** The group played a crucial role in India's post-independence industrialization, contributing significantly to nation-building.  Its commitment to nation-building and ethical practices solidified its reputation.\n",
      "* **Global Expansion:**  The Tata Group has expanded globally through acquisitions and organic growth, establishing a significant international presence.  This includes acquisitions like Jaguar Land Rover (Tata Motors), Corus Steel (Tata Steel), and numerous other ventures across continents.\n",
      "* **Leadership and Governance:**  The Tata Group is known for its unique governance structure, characterized by a blend of family ownership and professional management.  The Tata Trusts, a group of philanthropic trusts, hold significant stakes in Tata Sons, influencing the group's strategic direction and social commitment.  This structure has, however, also been subject to internal disputes and leadership changes in recent years.\n",
      "\n",
      "**II. Key Sectors and Businesses:**\n",
      "\n",
      "The Tata Group's portfolio is incredibly diverse, spanning numerous sectors:\n",
      "\n",
      "* **Automotive:** Tata Motors (including Jaguar Land Rover, Tata Daewoo), a major player in the global automotive industry, producing passenger vehicles, commercial vehicles, and luxury cars.\n",
      "* **Steel:** Tata Steel, one of the world's leading steel producers, with operations across multiple countries.\n",
      "* **IT Services:** Tata Consultancy Services (TCS) is a global leader in IT services, consulting, and business solutions.  Other IT companies within the group contribute significantly.\n",
      "* **Consumer Goods:**  Tata Consumer Products offers a wide range of food and beverage products.\n",
      "* **Chemicals:** Tata Chemicals is involved in the manufacturing of various chemicals and fertilizers.\n",
      "* **Power:** Tata Power is involved in power generation and distribution.\n",
      "* **Telecommunications:** Tata Teleservices (though significantly scaled down in recent years) and other ventures contribute to this sector.\n",
      "* **Hospitality:** The Taj Hotels Resorts and Palaces is a luxury hospitality chain with properties globally.\n",
      "* **Aerospace:** Tata Advanced Systems is involved in aerospace and defense.\n",
      "* **Retail:** Tata Group has a presence in retail through various ventures.\n",
      "* **Financial Services:** Tata Capital and other financial services arms contribute to the group's financial portfolio.\n",
      "\n",
      "**III. Corporate Social Responsibility (CSR):**\n",
      "\n",
      "The Tata Group is renowned for its strong commitment to CSR.  The Tata Trusts, holding substantial shares in Tata Sons, play a pivotal role in this commitment. Their initiatives encompass numerous areas, including:\n",
      "\n",
      "* **Education:** Supporting educational institutions and promoting access to quality education.\n",
      "* **Healthcare:**  Investing in healthcare infrastructure and initiatives.\n",
      "* **Rural Development:**  Focusing on improving the lives of people in rural areas.\n",
      "* **Environmental Sustainability:**  Promoting environmentally friendly practices and sustainable development.\n",
      "\n",
      "**IV. Challenges and Criticisms:**\n",
      "\n",
      "Despite its success, the Tata Group faces challenges:\n",
      "\n",
      "* **Competition:**  Intense competition in various sectors requires constant innovation and adaptation.\n",
      "* **Global Economic Fluctuations:**  The global economy's volatility affects the group's performance.\n",
      "* **Governance Issues:**  The unique governance structure has faced internal conflicts and scrutiny.\n",
      "* **Sustainability Concerns:**  The group faces scrutiny regarding its environmental impact in certain operations.\n",
      "* **Debt Levels:**  Some of its subsidiaries have faced high debt levels.\n",
      "\n",
      "\n",
      "**V. Future Outlook:**\n",
      "\n",
      "The Tata Group is continuously adapting to changing market dynamics and technological advancements. Its focus on innovation, diversification, and sustainability positions it for continued growth, though navigating global uncertainties and internal challenges remains crucial for its long-term success.  The group's commitment to technological advancement and expansion into new sectors will shape its future trajectory.\n",
      "\n",
      "\n",
      "This overview provides a detailed but still necessarily incomplete picture of the Tata Group.  The sheer size and complexity of the organization make a completely exhaustive analysis impossible within this format.  Further research into specific Tata companies and initiatives is recommended for a deeper understanding of particular areas.\n",
      "\n",
      "\n",
      "here is output from TOKEN_COUNTER\n",
      "_______\n",
      "total token number in the generated answer is 736\n",
      "\n",
      "\n"
     ]
    }
   ],
   "source": [
    "for output in app.stream(\"tell me about the tata enterpirse in very detail.\"):\n",
    "    for key,value in output.items():\n",
    "        print(f\"here is output from {key}\")\n",
    "        print(\"_______\")\n",
    "        print(value)\n",
    "        print(\"\\n\")"
   ]
  }
 ],
 "metadata": {
  "kernelspec": {
   "display_name": "Python 3",
   "language": "python",
   "name": "python3"
  },
  "language_info": {
   "codemirror_mode": {
    "name": "ipython",
    "version": 3
   },
   "file_extension": ".py",
   "mimetype": "text/x-python",
   "name": "python",
   "nbconvert_exporter": "python",
   "pygments_lexer": "ipython3",
   "version": "3.13.2"
  }
 },
 "nbformat": 4,
 "nbformat_minor": 5
}
